{
  "nbformat": 4,
  "nbformat_minor": 0,
  "metadata": {
    "colab": {
      "provenance": []
    },
    "kernelspec": {
      "name": "python3",
      "display_name": "Python 3"
    },
    "language_info": {
      "name": "python"
    }
  },
  "cells": [
    {
      "cell_type": "code",
      "execution_count": null,
      "metadata": {
        "colab": {
          "base_uri": "https://localhost:8080/"
        },
        "id": "96HFfhmPfuvR",
        "outputId": "b2f1c378-0121-49a8-a087-64a0c8ef5bae"
      },
      "outputs": [
        {
          "output_type": "stream",
          "name": "stdout",
          "text": [
            "Linked list created 5\n"
          ]
        }
      ],
      "source": [
        "class LL:\n",
        "  def __init__(self,size):\n",
        "    self.size=size\n",
        "  class Node:\n",
        "    def __init__(self,data,addr):\n",
        "      self.data = data\n",
        "      self.addr = addr\n",
        "\n",
        "linked_list = LL(5)\n",
        "print(\"Linked list created\",linked_list.size)"
      ]
    },
    {
      "cell_type": "code",
      "source": [
        "class LL:\n",
        "    def __init__(self, size=0):\n",
        "        self.size = size\n",
        "        self.head = None\n",
        "        self.tail = None\n",
        "\n",
        "    class Node:\n",
        "        def __init__(self, data, addr=None):\n",
        "            self.data = data\n",
        "            self.addr = addr\n",
        "\n",
        "    def insert_first(self, value):\n",
        "        node = self.Node(value)\n",
        "        node.addr = self.head\n",
        "        self.head = node\n",
        "        self.tail = node\n",
        "        self.size += 1\n",
        "\n",
        "linked_list = LL()\n",
        "linked_list.insert_first(10)\n",
        "print(\"Linked list created with size:\", linked_list.size)\n"
      ],
      "metadata": {
        "colab": {
          "base_uri": "https://localhost:8080/"
        },
        "id": "ECauswvFiKft",
        "outputId": "5756a0f7-99df-4fce-be75-ccb5ca46940d"
      },
      "execution_count": null,
      "outputs": [
        {
          "output_type": "stream",
          "name": "stdout",
          "text": [
            "Linked list created with size: 1\n"
          ]
        }
      ]
    },
    {
      "cell_type": "code",
      "source": [
        "class LinkedList:\n",
        "    class Node:\n",
        "        def __init__(self, data):\n",
        "            self.data = data\n",
        "            self.next = None\n",
        "\n",
        "    def __init__(self):\n",
        "        self.head = None\n",
        "        self.size = 0\n",
        "\n",
        "    def insert_at_beginning(self, value):\n",
        "        new_node = self.Node(value)\n",
        "        new_node.next = self.head\n",
        "        self.head = new_node\n",
        "        self.size += 1\n",
        "\n",
        "    def display(self):\n",
        "        current = self.head\n",
        "        while current:\n",
        "            print(current.data, end=\" \")\n",
        "            current = current.next\n",
        "        print(\"None\")\n",
        "\n",
        "\n",
        "linked_list = LinkedList()\n",
        "linked_list.insert_at_beginning(10)\n",
        "linked_list.insert_at_beginning(20)\n",
        "linked_list.insert_at_beginning(30)\n",
        "\n",
        "print(\"Linked list created with size:\", linked_list.size)\n",
        "linked_list.display()\n",
        "\n"
      ],
      "metadata": {
        "colab": {
          "base_uri": "https://localhost:8080/"
        },
        "id": "f3svxkYElz9V",
        "outputId": "2a039cd5-d231-4e85-9a92-72191265a548"
      },
      "execution_count": null,
      "outputs": [
        {
          "output_type": "stream",
          "name": "stdout",
          "text": [
            "Linked list created with size: 3\n",
            "30 20 10 None\n"
          ]
        }
      ]
    },
    {
      "cell_type": "code",
      "source": [
        "class LinkedList:\n",
        "    class Node:\n",
        "        def __init__(self, data):\n",
        "            self.data = data\n",
        "            self.next = None\n",
        "\n",
        "    def __init__(self):\n",
        "        self.head = None\n",
        "        self.tail = None\n",
        "        self.size = 0\n",
        "\n",
        "    def insert_at_end(self, value):\n",
        "        new_node = self.Node(value)\n",
        "\n",
        "\n",
        "        if self.tail is None:\n",
        "            self.head = new_node\n",
        "            self.tail = new_node\n",
        "        else:\n",
        "            self.tail.next = new_node\n",
        "            self.tail = new_node\n",
        "\n",
        "        self.size += 1\n",
        "\n",
        "\n",
        "ll = LinkedList()\n",
        "ll.insert_at_end(10)\n",
        "\n",
        "print(\"Inserted at end\")\n"
      ],
      "metadata": {
        "colab": {
          "base_uri": "https://localhost:8080/"
        },
        "id": "nGAqcMDXneTN",
        "outputId": "fb2437fb-8ba1-4e89-8b3d-1bafa433b6aa"
      },
      "execution_count": null,
      "outputs": [
        {
          "output_type": "stream",
          "name": "stdout",
          "text": [
            "Inserted at end\n"
          ]
        }
      ]
    }
  ]
}