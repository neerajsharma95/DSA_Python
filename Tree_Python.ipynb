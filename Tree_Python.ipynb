{
  "nbformat": 4,
  "nbformat_minor": 0,
  "metadata": {
    "colab": {
      "provenance": []
    },
    "kernelspec": {
      "name": "python3",
      "display_name": "Python 3"
    },
    "language_info": {
      "name": "python"
    }
  },
  "cells": [
    {
      "cell_type": "code",
      "execution_count": 1,
      "metadata": {
        "colab": {
          "base_uri": "https://localhost:8080/"
        },
        "id": "8s29_YuVxt79",
        "outputId": "e7b0a084-ddcd-49f1-add3-eff0c88ad42f"
      },
      "outputs": [
        {
          "output_type": "stream",
          "name": "stdout",
          "text": [
            "Tree created\n"
          ]
        }
      ],
      "source": [
        "class TreeNode:\n",
        "    def __init__(self, value):\n",
        "        self.value = value\n",
        "        self.left = None\n",
        "        self.right = None\n",
        "class BST:\n",
        "    def __init__(self):\n",
        "        self.root = None\n",
        "\n",
        "bst = BST()\n",
        "print(\"Tree created\")"
      ]
    },
    {
      "cell_type": "code",
      "source": [
        "class TreeNode:\n",
        "    def __init__(self, value):\n",
        "        self.value = value\n",
        "        self.left = None\n",
        "        self.right = None\n",
        "class BST:\n",
        "    def __init__(self):\n",
        "        self.root = None\n",
        "def insert(self, value):\n",
        "        if self.root is None:\n",
        "            self.root = TreeNode(value)\n",
        "        else:\n",
        "            self._insert_recursive(self.root, value)\n",
        "\n",
        "def _insert_recursive(self, node, value):\n",
        "        if value < node.value:\n",
        "            if node.left is None:\n",
        "                node.left = TreeNode(value)\n",
        "            else:\n",
        "                self._insert_recursive(node.left, value)\n",
        "        elif value > node.value:\n",
        "            if node.right is None:\n",
        "                node.right = TreeNode(value)\n",
        "            else:\n",
        "                self._insert_recursive(node.right, value)\n",
        "\n",
        "n = int(input())\n",
        "initials = input().split()\n",
        "bst = BST()"
      ],
      "metadata": {
        "colab": {
          "base_uri": "https://localhost:8080/"
        },
        "id": "wnGMT_SXyLyl",
        "outputId": "10822176-c16b-4b5c-a1e2-5755ebeca4fa"
      },
      "execution_count": 2,
      "outputs": [
        {
          "name": "stdout",
          "output_type": "stream",
          "text": [
            "5\n",
            "a\n"
          ]
        }
      ]
    },
    {
      "cell_type": "markdown",
      "source": [
        "**Inorder Traversal**"
      ],
      "metadata": {
        "id": "4FBupRo7GNgI"
      }
    },
    {
      "cell_type": "code",
      "source": [
        "class TreeNode:\n",
        "    def __init__(self, value):\n",
        "        self.value = value\n",
        "        self.left = None\n",
        "        self.right = None\n",
        "\n",
        "\n",
        "def inorder_traversal(node):\n",
        "    if node is not None:\n",
        "        inorder_traversal(node.left)\n",
        "        print(node.value, end=\" \")\n",
        "        inorder_traversal(node.right)\n",
        "\n",
        "root = TreeNode(1)\n",
        "root.left = TreeNode(2)\n",
        "root.right = TreeNode(3)\n",
        "root.left.left = TreeNode(4)\n",
        "root.left.right = TreeNode(5)\n",
        "\n",
        "\n",
        "print(\"Inorder Traversal:\")\n",
        "inorder_traversal(root)\n"
      ],
      "metadata": {
        "colab": {
          "base_uri": "https://localhost:8080/"
        },
        "id": "MOPdK2IrBD0E",
        "outputId": "5eb131e2-7dcf-44ac-90f0-7f1590b9a9bb"
      },
      "execution_count": 2,
      "outputs": [
        {
          "output_type": "stream",
          "name": "stdout",
          "text": [
            "Inorder Traversal:\n",
            "4 2 5 1 3 "
          ]
        }
      ]
    },
    {
      "cell_type": "markdown",
      "source": [
        "**Pre-Order Traversal**"
      ],
      "metadata": {
        "id": "n030MLc8GUti"
      }
    },
    {
      "cell_type": "code",
      "source": [
        "\n",
        "class TreeNode:\n",
        "    def __init__(self, value):\n",
        "        self.value = value\n",
        "        self.left = None\n",
        "        self.right = None\n",
        "\n",
        "\n",
        "def preorder_traversal(node):\n",
        "    if node is not None:\n",
        "\n",
        "        print(node.value, end=\" \")\n",
        "        preorder_traversal(node.left)\n",
        "        preorder_traversal(node.right)\n",
        "\n",
        "root = TreeNode(1)\n",
        "root.left = TreeNode(2)\n",
        "root.right = TreeNode(3)\n",
        "root.left.left = TreeNode(4)\n",
        "root.left.right = TreeNode(5)\n",
        "\n",
        "\n",
        "print(\"Preorder Traversal:\")\n",
        "preorder_traversal(root)\n"
      ],
      "metadata": {
        "colab": {
          "base_uri": "https://localhost:8080/"
        },
        "id": "uK1VHmpGEUgf",
        "outputId": "85991775-d353-4340-e15b-ea909e82cb2b"
      },
      "execution_count": 7,
      "outputs": [
        {
          "output_type": "stream",
          "name": "stdout",
          "text": [
            "Preorder Traversal:\n",
            "1 2 4 5 3 "
          ]
        }
      ]
    },
    {
      "cell_type": "markdown",
      "source": [
        "**Post-Order Traversal**"
      ],
      "metadata": {
        "id": "AqDGKOuJGZ1B"
      }
    },
    {
      "cell_type": "code",
      "source": [
        "class TreeNode:\n",
        "    def __init__(self, value):\n",
        "        self.value = value\n",
        "        self.left = None\n",
        "        self.right = None\n",
        "\n",
        "\n",
        "def postorder_traversal(node):\n",
        "    if node is not None:\n",
        "\n",
        "        postorder_traversal(node.left)\n",
        "        postorder_traversal(node.right)\n",
        "        print(node.value, end=\" \")\n",
        "\n",
        "\n",
        "root = TreeNode(1)\n",
        "root.left = TreeNode(2)\n",
        "root.right = TreeNode(3)\n",
        "root.left.left = TreeNode(4)\n",
        "root.left.right = TreeNode(5)\n",
        "\n",
        "\n",
        "print(\"Postorder Traversal:\")\n",
        "postorder_traversal(root)\n"
      ],
      "metadata": {
        "colab": {
          "base_uri": "https://localhost:8080/"
        },
        "id": "bMMKK_1rEtFb",
        "outputId": "caaa17c3-e6a4-442e-fb0d-0f229402f82e"
      },
      "execution_count": 8,
      "outputs": [
        {
          "output_type": "stream",
          "name": "stdout",
          "text": [
            "Postorder Traversal:\n",
            "4 5 2 3 1 "
          ]
        }
      ]
    }
  ]
}